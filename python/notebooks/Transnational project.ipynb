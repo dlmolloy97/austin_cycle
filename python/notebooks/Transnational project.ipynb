{
 "cells": [
  {
   "cell_type": "code",
   "execution_count": null,
   "id": "5cd8d847-3edb-4953-830f-223ddd655e38",
   "metadata": {},
   "outputs": [],
   "source": []
  },
  {
   "cell_type": "markdown",
   "id": "5c26912f-6190-4e7a-b607-bc27a6b378c8",
   "metadata": {},
   "source": [
    "# User\n",
    "Please write a function that will apply the dbt codegen function generate_model_yaml to every SQL file at every level of a given folder."
   ]
  },
  {
   "cell_type": "markdown",
   "id": "f19929d4-9daa-4e96-80a8-9719992757c1",
   "metadata": {},
   "source": [
    "# Assistant\n",
    "To accomplish this task, you will need to write a Python function that traverses a directory, finds all SQL files, and applies the `generate_model_yaml` function from the `dbt` package to each of those files. \n",
    "\n",
    "Here’s a step-by-step breakdown of how to implement this:\n",
    "\n",
    "1. **Import Required Libraries**: You will need `os` for directory traversal and `dbt` for the `generate_model_yaml` function.\n",
    "2. **Define the Function**: Create a function that takes a directory path as an argument.\n",
    "3. **Traverse the Directory**: Use `os.walk()` to iterate through all files in the directory and its subdirectories.\n",
    "4. **Check for SQL Files**: For each file, check if it has a `.sql` extension.\n",
    "5. **Apply `generate_model_yaml`**: Call the `generate_model_yaml` function on each SQL file.\n",
    "\n",
    "Here’s how the code would look:\n"
   ]
  },
  {
   "cell_type": "code",
   "execution_count": 18,
   "id": "016f8705-e8d3-4d0e-a931-c2f64b2d6902",
   "metadata": {},
   "outputs": [
    {
     "ename": "ModuleNotFoundError",
     "evalue": "No module named 'dbt.clients.agate_helper'",
     "output_type": "error",
     "traceback": [
      "\u001b[0;31m---------------------------------------------------------------------------\u001b[0m",
      "\u001b[0;31mModuleNotFoundError\u001b[0m                       Traceback (most recent call last)",
      "Cell \u001b[0;32mIn[18], line 2\u001b[0m\n\u001b[1;32m      1\u001b[0m \u001b[38;5;28;01mimport\u001b[39;00m \u001b[38;5;21;01mos\u001b[39;00m\n\u001b[0;32m----> 2\u001b[0m \u001b[38;5;28;01mfrom\u001b[39;00m \u001b[38;5;21;01mdbt\u001b[39;00m\u001b[38;5;21;01m.\u001b[39;00m\u001b[38;5;21;01mclients\u001b[39;00m\u001b[38;5;21;01m.\u001b[39;00m\u001b[38;5;21;01magate_helper\u001b[39;00m \u001b[38;5;28;01mimport\u001b[39;00m generate_model_yaml\n\u001b[1;32m      4\u001b[0m \u001b[38;5;28;01mdef\u001b[39;00m \u001b[38;5;21mapply_dbt_codegen_to_sql_files\u001b[39m(directory):\n\u001b[1;32m      5\u001b[0m     \u001b[38;5;28;01mfor\u001b[39;00m root, dirs, files \u001b[38;5;129;01min\u001b[39;00m os\u001b[38;5;241m.\u001b[39mwalk(directory):\n",
      "\u001b[0;31mModuleNotFoundError\u001b[0m: No module named 'dbt.clients.agate_helper'"
     ]
    }
   ],
   "source": [
    "import os\n",
    "from dbt.clients.agate_helper import generate_model_yaml\n",
    "\n",
    "def apply_dbt_codegen_to_sql_files(directory):\n",
    "    for root, dirs, files in os.walk(directory):\n",
    "        for file in files:\n",
    "            if file.endswith('.sql'):\n",
    "                sql_file_path = os.path.join(root, file)\n",
    "                # Assuming generate_model_yaml takes the file path as an argument\n",
    "                generate_model_yaml(sql_file_path)"
   ]
  },
  {
   "cell_type": "markdown",
   "id": "ebecf25d-5be4-4307-8892-612cb9f4a255",
   "metadata": {},
   "source": [
    "\n",
    "### Usage\n",
    "You can call this function by passing the path to the directory containing your SQL files:\n"
   ]
  },
  {
   "cell_type": "code",
   "execution_count": 7,
   "id": "c357afad-2a59-4921-8ff0-7aaab1d30094",
   "metadata": {},
   "outputs": [
    {
     "ename": "NameError",
     "evalue": "name 'apply_dbt_codegen_to_sql_files' is not defined",
     "output_type": "error",
     "traceback": [
      "\u001b[0;31m---------------------------------------------------------------------------\u001b[0m",
      "\u001b[0;31mNameError\u001b[0m                                 Traceback (most recent call last)",
      "Cell \u001b[0;32mIn[7], line 1\u001b[0m\n\u001b[0;32m----> 1\u001b[0m apply_dbt_codegen_to_sql_files(\u001b[38;5;124m'\u001b[39m\u001b[38;5;124m/path/to/your/directory\u001b[39m\u001b[38;5;124m'\u001b[39m)\n",
      "\u001b[0;31mNameError\u001b[0m: name 'apply_dbt_codegen_to_sql_files' is not defined"
     ]
    }
   ],
   "source": [
    "apply_dbt_codegen_to_sql_files('/Users/desmondmolloy/austin_cycle/models/austin')"
   ]
  },
  {
   "cell_type": "markdown",
   "id": "b106e1c7-5ea4-4614-9874-f304d5ad1b6a",
   "metadata": {},
   "source": [
    "\n",
    "### Note\n",
    "Make sure you have the `dbt` package installed in your environment, and that the `generate_model_yaml` function is correctly imported from the appropriate module within `dbt`. Adjust the import statement based on the actual location of the function in the `dbt` library."
   ]
  },
  {
   "cell_type": "markdown",
   "id": "62efdb32-8d75-4b3f-a026-1b2bdcb6d9f0",
   "metadata": {},
   "source": [
    "# User\n",
    "Good. Now, can you write the content of each call to a matching YML file in the same location? For instance models/Austin/bikeshare.sql should get a config file called models/Austin/bikeshare.yml."
   ]
  },
  {
   "cell_type": "markdown",
   "id": "7ee470de-f629-4cd2-a5c2-adc466daabf2",
   "metadata": {},
   "source": [
    "# Assistant\n",
    "To modify the previous function so that it writes the output of each call to `generate_model_yaml` into a corresponding YAML file in the same directory as the SQL file, you will need to:\n",
    "\n",
    "1. **Capture the Output**: Instead of directly calling `generate_model_yaml`, you will need to capture its output.\n",
    "2. **Create the YAML File**: Construct the path for the YAML file based on the SQL file's path.\n",
    "3. **Write to the YAML File**: Use Python's file handling to write the output to the new YAML file.\n",
    "\n",
    "Here’s how the updated code would look:\n"
   ]
  },
  {
   "cell_type": "code",
   "execution_count": 12,
   "id": "dfdc1075-b356-424e-b0e5-b4a1dd7bb79c",
   "metadata": {},
   "outputs": [
    {
     "ename": "ModuleNotFoundError",
     "evalue": "No module named 'dbt.clients.agate_helper'",
     "output_type": "error",
     "traceback": [
      "\u001b[0;31m---------------------------------------------------------------------------\u001b[0m",
      "\u001b[0;31mModuleNotFoundError\u001b[0m                       Traceback (most recent call last)",
      "Cell \u001b[0;32mIn[12], line 2\u001b[0m\n\u001b[1;32m      1\u001b[0m \u001b[38;5;28;01mimport\u001b[39;00m \u001b[38;5;21;01mos\u001b[39;00m\n\u001b[0;32m----> 2\u001b[0m \u001b[38;5;28;01mfrom\u001b[39;00m \u001b[38;5;21;01mdbt\u001b[39;00m\u001b[38;5;21;01m.\u001b[39;00m\u001b[38;5;21;01mclients\u001b[39;00m\u001b[38;5;21;01m.\u001b[39;00m\u001b[38;5;21;01magate_helper\u001b[39;00m \u001b[38;5;28;01mimport\u001b[39;00m generate_model_yaml\n\u001b[1;32m      4\u001b[0m \u001b[38;5;28;01mdef\u001b[39;00m \u001b[38;5;21mapply_dbt_codegen_to_sql_files\u001b[39m(directory):\n\u001b[1;32m      5\u001b[0m     \u001b[38;5;28;01mfor\u001b[39;00m root, dirs, files \u001b[38;5;129;01min\u001b[39;00m os\u001b[38;5;241m.\u001b[39mwalk(directory):\n",
      "\u001b[0;31mModuleNotFoundError\u001b[0m: No module named 'dbt.clients.agate_helper'"
     ]
    }
   ],
   "source": [
    "import os\n",
    "from x import generate_model_yaml\n",
    "\n",
    "def apply_dbt_codegen_to_sql_files(directory):\n",
    "    for root, dirs, files in os.walk(directory):\n",
    "        for file in files:\n",
    "            if file.endswith('.sql'):\n",
    "                sql_file_path = os.path.join(root, file)\n",
    "                # Generate the YAML content\n",
    "                yaml_content = generate_model_yaml(sql_file_path)\n",
    "                \n",
    "                # Create the corresponding YAML file path\n",
    "                yaml_file_path = os.path.splitext(sql_file_path)[0] + '.yml'\n",
    "                \n",
    "                # Write the YAML content to the file\n",
    "                with open(yaml_file_path, 'w') as yaml_file:\n",
    "                    yaml_file.write(yaml_content)"
   ]
  },
  {
   "cell_type": "markdown",
   "id": "8e69cbb6-6457-4578-81f6-054ddcbbfb79",
   "metadata": {},
   "source": [
    "\n",
    "### Explanation\n",
    "- **Capture Output**: The `yaml_content` variable stores the output from `generate_model_yaml`.\n",
    "- **Construct YAML Path**: The `os.path.splitext(sql_file_path)[0] + '.yml'` line creates the path for the YAML file by replacing the `.sql` extension with `.yml`.\n",
    "- **Write to File**: The `with open(...)` block opens the new YAML file in write mode and writes the generated content to it.\n",
    "\n",
    "### Usage\n",
    "You can call this function in the same way as before:\n"
   ]
  },
  {
   "cell_type": "code",
   "execution_count": 15,
   "id": "5a4fbc88-97a0-41d2-838b-82c563d0daae",
   "metadata": {},
   "outputs": [
    {
     "ename": "NameError",
     "evalue": "name 'apply_dbt_codegen_to_sql_files' is not defined",
     "output_type": "error",
     "traceback": [
      "\u001b[0;31m---------------------------------------------------------------------------\u001b[0m",
      "\u001b[0;31mNameError\u001b[0m                                 Traceback (most recent call last)",
      "Cell \u001b[0;32mIn[15], line 1\u001b[0m\n\u001b[0;32m----> 1\u001b[0m apply_dbt_codegen_to_sql_files(\u001b[38;5;124m'\u001b[39m\u001b[38;5;124m/path/to/your/directory\u001b[39m\u001b[38;5;124m'\u001b[39m)\n",
      "\u001b[0;31mNameError\u001b[0m: name 'apply_dbt_codegen_to_sql_files' is not defined"
     ]
    }
   ],
   "source": [
    "apply_dbt_codegen_to_sql_files('/path/to/your/directory')"
   ]
  },
  {
   "cell_type": "markdown",
   "id": "1879a1d0-0a36-4cd6-948b-eac08b912ffb",
   "metadata": {},
   "source": [
    "\n",
    "### Note\n",
    "Ensure that the `generate_model_yaml` function returns a string that represents the YAML content. If it returns a different type or requires additional parameters, you may need to adjust the code accordingly."
   ]
  },
  {
   "cell_type": "markdown",
   "id": "cba39fc4-3025-427f-b7b7-ff2b6bd53b0b",
   "metadata": {},
   "source": [
    "# User\n",
    "Create a function that will duplicate a folder, while replacing all instances of a given string in the filenames and contents of the folder with a different string."
   ]
  },
  {
   "cell_type": "markdown",
   "id": "6fd46a9d-d0b7-42c1-b3d7-35fbc05f8564",
   "metadata": {},
   "source": [
    "# Assistant\n",
    "To create a function that duplicates a folder while replacing all instances of a given string in the filenames and contents, you will need to use Python's `os`, `shutil`, and `fileinput` modules. Here's a step-by-step breakdown of how to implement this:\n",
    "\n",
    "1. **Import Required Modules**: You will need `os` for directory operations, `shutil` for copying files and directories, and `fileinput` for modifying file contents.\n",
    "\n",
    "2. **Define the Function**: The function will take four parameters: the source folder path, the destination folder path, the string to be replaced, and the replacement string.\n",
    "\n",
    "3. **Copy the Folder**: Use `shutil.copytree()` to duplicate the folder structure.\n",
    "\n",
    "4. **Rename Files**: Traverse the copied directory and rename files that contain the specified string.\n",
    "\n",
    "5. **Replace Content**: Open each file and replace the specified string in the content.\n",
    "\n",
    "Here is the code that accomplishes this:\n"
   ]
  },
  {
   "cell_type": "code",
   "execution_count": 8,
   "id": "5b57c194-b6f5-416e-92c9-1f630dc4af5c",
   "metadata": {},
   "outputs": [],
   "source": [
    "import os\n",
    "import shutil\n",
    "import fileinput\n",
    "\n",
    "def duplicate_and_replace(source_folder, dest_folder, old_string, new_string):\n",
    "    # Copy the entire folder structure\n",
    "    shutil.copytree(source_folder, dest_folder)\n",
    "    \n",
    "    # Walk through the destination folder\n",
    "    for dirpath, dirnames, filenames in os.walk(dest_folder):\n",
    "        for filename in filenames:\n",
    "            # Create the old file path\n",
    "            old_file_path = os.path.join(dirpath, filename)\n",
    "            # Replace the old string in the filename\n",
    "            new_filename = filename.replace(old_string, new_string)\n",
    "            new_file_path = os.path.join(dirpath, new_filename)\n",
    "            \n",
    "            # Rename the file if the name has changed\n",
    "            if old_file_path != new_file_path:\n",
    "                os.rename(old_file_path, new_file_path)\n",
    "            \n",
    "            # Replace the old string in the file content\n",
    "            with fileinput.FileInput(new_file_path, inplace=True) as file:\n",
    "                for line in file:\n",
    "                    print(line.replace(old_string, new_string), end='')\n",
    "\n",
    "# Example usage:\n",
    "# duplicate_and_replace('path/to/source_folder', 'path/to/destination_folder', 'old_string', 'new_string')"
   ]
  },
  {
   "cell_type": "markdown",
   "id": "5492a4f7-3d23-4b87-a01c-e6012dcb72e3",
   "metadata": {},
   "source": [
    "\n",
    "### Explanation:\n",
    "- **shutil.copytree()**: This function copies an entire directory tree rooted at the source folder to the destination folder.\n",
    "- **os.walk()**: This function generates the file names in a directory tree by walking the tree either top-down or bottom-up.\n",
    "- **fileinput.FileInput()**: This allows you to iterate over lines from multiple input streams, which is useful for modifying file contents in place.\n",
    "\n",
    "### Note:\n",
    "- Ensure that the destination folder does not already exist, as `shutil.copytree()` will raise an error if it does.\n",
    "- This function will modify all files in the directory, so use it with caution, especially if the files are large or numerous."
   ]
  },
  {
   "cell_type": "code",
   "execution_count": 13,
   "id": "5af3c372-5acf-4e96-b1d7-22287dd57650",
   "metadata": {},
   "outputs": [],
   "source": [
    "duplicate_and_replace(source_folder = '/Users/desmondmolloy/austin_cycle/models/austin',\n",
    "                      dest_folder= '/Users/desmondmolloy/austin_cycle/models/san_francisco',\n",
    "                      old_string='austin',\n",
    "                      new_string='san_francisco')\n",
    "                      "
   ]
  },
  {
   "cell_type": "code",
   "execution_count": null,
   "id": "f18a530f-434f-4223-a310-5765e270b539",
   "metadata": {},
   "outputs": [],
   "source": []
  },
  {
   "cell_type": "markdown",
   "id": "30fbeb40-cbf1-45ce-81d3-733f7f4aea93",
   "metadata": {},
   "source": [
    "# User\n",
    "Create a function that will duplicate a folder, while replacing all instances of a given string in the filenames and contents of the folder with a different string."
   ]
  },
  {
   "cell_type": "markdown",
   "id": "561c645c-8c2d-452e-9e3b-1b7193a5c950",
   "metadata": {},
   "source": [
    "# Assistant\n",
    "To create a function that duplicates a folder while replacing all instances of a given string in the filenames and contents, you will need to use Python's `os`, `shutil`, and `fileinput` modules. Here's a step-by-step breakdown of how to implement this:\n",
    "\n",
    "1. **Import Required Modules**: You will need `os` for directory operations, `shutil` for copying files and directories, and `fileinput` for modifying file contents.\n",
    "\n",
    "2. **Define the Function**: The function will take four parameters: the source folder path, the destination folder path, the string to be replaced, and the replacement string.\n",
    "\n",
    "3. **Copy the Folder**: Use `shutil.copytree()` to duplicate the folder structure.\n",
    "\n",
    "4. **Rename Files**: Traverse the copied directory and rename files that contain the specified string.\n",
    "\n",
    "5. **Replace Content**: Open each file and replace the specified string in the content.\n",
    "\n",
    "Here is the code that accomplishes this:\n"
   ]
  },
  {
   "cell_type": "code",
   "execution_count": 17,
   "id": "420aed90-bf89-49b5-a59d-5702b0619ba8",
   "metadata": {},
   "outputs": [],
   "source": [
    "import os\n",
    "import shutil\n",
    "import fileinput\n",
    "\n",
    "def duplicate_and_replace(source_folder, dest_folder, old_string, new_string):\n",
    "    # Copy the entire folder structure\n",
    "    shutil.copytree(source_folder, dest_folder)\n",
    "    \n",
    "    # Walk through the destination folder\n",
    "    for dirpath, dirnames, filenames in os.walk(dest_folder):\n",
    "        for filename in filenames:\n",
    "            # Create the old file path\n",
    "            old_file_path = os.path.join(dirpath, filename)\n",
    "            # Replace the old string in the filename\n",
    "            new_filename = filename.replace(old_string, new_string)\n",
    "            new_file_path = os.path.join(dirpath, new_filename)\n",
    "            \n",
    "            # Rename the file if the name has changed\n",
    "            if old_file_path != new_file_path:\n",
    "                os.rename(old_file_path, new_file_path)\n",
    "            \n",
    "            # Replace the old string in the file content\n",
    "            with fileinput.FileInput(new_file_path, inplace=True) as file:\n",
    "                for line in file:\n",
    "                    print(line.replace(old_string, new_string), end='')\n",
    "\n",
    "# Example usage:\n",
    "# duplicate_and_replace('path/to/source_folder', 'path/to/destination_folder', 'old_string', 'new_string')"
   ]
  },
  {
   "cell_type": "markdown",
   "id": "75d3339a-dc22-458d-8801-1de046236019",
   "metadata": {},
   "source": [
    "\n",
    "### Explanation:\n",
    "- **shutil.copytree()**: This function copies an entire directory tree rooted at the source folder to the destination folder.\n",
    "- **os.walk()**: This function generates the file names in a directory tree by walking the tree either top-down or bottom-up.\n",
    "- **fileinput.FileInput()**: This allows you to iterate over lines from multiple input streams, which is useful for modifying file contents in place.\n",
    "\n",
    "### Note:\n",
    "- Ensure that the destination folder does not already exist, as `shutil.copytree()` will raise an error if it does.\n",
    "- This function will modify all files in the directory, so use it with caution, especially if the files are large or numerous."
   ]
  },
  {
   "cell_type": "markdown",
   "id": "33092088-7491-4586-9b11-9f0a6b31a8fd",
   "metadata": {},
   "source": [
    "# User\n",
    "Very good. Can this be done as a macro in dbt?"
   ]
  },
  {
   "cell_type": "markdown",
   "id": "b9028cbc-298c-4917-b9db-436d0d0b5970",
   "metadata": {},
   "source": [
    "# Assistant\n",
    "Yes, you can create a macro in dbt (data build tool) to achieve similar functionality, but it's important to note that dbt is primarily designed for transforming data in a data warehouse rather than manipulating files or folders directly. However, you can create a macro that generates SQL code to replace strings in your data models.\n",
    "\n",
    "Here's how you can create a dbt macro to replace a string in a column of a table:\n",
    "\n",
    "1. **Create a Macro**: In your dbt project, create a new file in the `macros` directory, for example, `replace_string.sql`.\n",
    "\n",
    "2. **Define the Macro**: The macro will take three parameters: the table name, the column name, the string to be replaced, and the replacement string.\n",
    "\n",
    "3. **Generate SQL**: The macro will generate a SQL statement that uses the `REPLACE` function to replace the specified string in the specified column.\n",
    "\n",
    "Here’s an example of how you can implement this:\n"
   ]
  },
  {
   "cell_type": "markdown",
   "id": "663c78c1-df80-4617-8a17-80bbcac45277",
   "metadata": {},
   "source": [
    "sql\n",
    "-- macros/replace_string.sql\n",
    "\n",
    "{% macro replace_string(table_name, column_name, old_string, new_string) %}\n",
    "    SELECT\n",
    "        *,\n",
    "        REPLACE({{ column_name }}, '{{ old_string }}', '{{ new_string }}') AS {{ column_name }}_updated\n",
    "    FROM {{ ref(table_name) }}\n",
    "{% endmacro %}"
   ]
  },
  {
   "cell_type": "markdown",
   "id": "6769bd9f-27c3-4111-982f-9792571b29ef",
   "metadata": {},
   "source": [
    "\n",
    "### Explanation:\n",
    "- **Macro Definition**: The macro is defined using the `{% macro %}` syntax.\n",
    "- **Parameters**: It takes the table name, column name, old string, and new string as parameters.\n",
    "- **SQL Generation**: It generates a SQL query that selects all columns from the specified table and creates a new column with the updated values.\n",
    "\n",
    "### Usage:\n",
    "You can use this macro in your dbt models like this:\n"
   ]
  },
  {
   "cell_type": "markdown",
   "id": "d81cec75-ed5c-4570-8722-3189aca35a15",
   "metadata": {},
   "source": [
    "sql\n",
    "-- models/my_model.sql\n",
    "\n",
    "WITH base AS (\n",
    "    {{ replace_string('my_source_table', 'my_column', 'old_string', 'new_string') }}\n",
    ")\n",
    "\n",
    "SELECT *\n",
    "FROM base"
   ]
  },
  {
   "cell_type": "markdown",
   "id": "25d1426b-8050-4dfe-8fb5-cddd3b560111",
   "metadata": {},
   "source": [
    "\n",
    "### Important Notes:\n",
    "- This macro does not duplicate folders or files; it operates on data within a database.\n",
    "- Ensure that the column you are replacing values in is of a string type.\n",
    "- You can modify the macro to handle multiple columns or different data types as needed.\n",
    "\n",
    "If you need to perform file or folder operations, you would typically do that outside of dbt, using Python scripts or other tools, and then load the processed data into your data warehouse for transformation with dbt."
   ]
  },
  {
   "cell_type": "markdown",
   "id": "3bff72cc-043f-4be7-82ee-aa5e1fa56db5",
   "metadata": {},
   "source": [
    "# User\n",
    "Understood. I will keep using the Python function you generated."
   ]
  },
  {
   "cell_type": "markdown",
   "id": "2360db2c-09df-4d36-8680-1657e6fd12db",
   "metadata": {},
   "source": [
    "# Assistant\n",
    "That sounds like a great plan! The Python function I provided is well-suited for duplicating folders and replacing strings in filenames and file contents. If you have any further questions about the function, need help with modifications, or have any other topics related to Python, Jupyter Notebooks, or dbt, feel free to ask. Happy coding!"
   ]
  },
  {
   "cell_type": "markdown",
   "id": "d32bb7d3-67f3-41bd-b5b2-41f16589e793",
   "metadata": {},
   "source": [
    "# User\n",
    "Another thought: can you make this useable on the command line? For instance, if I compiled this code into a package called dbt_ricos, I would want to be able to run dbt_ricos duplicate_and_replace --source_folder=something."
   ]
  },
  {
   "cell_type": "markdown",
   "id": "9ea179ed-3721-4d9b-89a6-3bdd71b402f1",
   "metadata": {},
   "source": [
    "# Assistant\n",
    "Certainly! To make the Python function usable from the command line, you can use the `argparse` module, which allows you to parse command-line arguments. Below are the steps to modify the function and create a command-line interface (CLI) for it.\n",
    "\n",
    "### Steps to Create a Command-Line Interface\n",
    "\n",
    "1. **Import `argparse`**: This module will help you handle command-line arguments.\n",
    "\n",
    "2. **Define the Main Function**: Create a main function that will parse the command-line arguments and call the `duplicate_and_replace` function.\n",
    "\n",
    "3. **Set Up Argument Parsing**: Use `argparse.ArgumentParser` to define the expected arguments.\n",
    "\n",
    "4. **Compile into a Package**: You can structure your package so that it can be installed and run from the command line.\n",
    "\n",
    "Here’s how you can implement this:\n"
   ]
  },
  {
   "cell_type": "code",
   "execution_count": 30,
   "id": "cbd6f3b9-11e4-44d4-9d45-3b5d98559962",
   "metadata": {},
   "outputs": [
    {
     "name": "stderr",
     "output_type": "stream",
     "text": [
      "usage: ipykernel_launcher.py [-h] --source_folder SOURCE_FOLDER --dest_folder\n",
      "                             DEST_FOLDER --old_string OLD_STRING --new_string\n",
      "                             NEW_STRING\n",
      "ipykernel_launcher.py: error: the following arguments are required: --source_folder, --dest_folder, --old_string, --new_string\n"
     ]
    },
    {
     "ename": "SystemExit",
     "evalue": "2",
     "output_type": "error",
     "traceback": [
      "An exception has occurred, use %tb to see the full traceback.\n",
      "\u001b[0;31mSystemExit\u001b[0m\u001b[0;31m:\u001b[0m 2\n"
     ]
    },
    {
     "name": "stderr",
     "output_type": "stream",
     "text": [
      "/Users/desmondmolloy/anaconda3/lib/python3.11/site-packages/IPython/core/interactiveshell.py:3513: UserWarning: To exit: use 'exit', 'quit', or Ctrl-D.\n",
      "  warn(\"To exit: use 'exit', 'quit', or Ctrl-D.\", stacklevel=1)\n"
     ]
    }
   ],
   "source": [
    "import os\n",
    "import shutil\n",
    "import fileinput\n",
    "import argparse\n",
    "\n",
    "def duplicate_and_replace(source_folder, dest_folder, old_string, new_string):\n",
    "    # Copy the entire folder structure\n",
    "    shutil.copytree(source_folder, dest_folder)\n",
    "    \n",
    "    # Walk through the destination folder\n",
    "    for dirpath, dirnames, filenames in os.walk(dest_folder):\n",
    "        for filename in filenames:\n",
    "            # Create the old file path\n",
    "            old_file_path = os.path.join(dirpath, filename)\n",
    "            # Replace the old string in the filename\n",
    "            new_filename = filename.replace(old_string, new_string)\n",
    "            new_file_path = os.path.join(dirpath, new_filename)\n",
    "            \n",
    "            # Rename the file if the name has changed\n",
    "            if old_file_path != new_file_path:\n",
    "                os.rename(old_file_path, new_file_path)\n",
    "            \n",
    "            # Replace the old string in the file content\n",
    "            with fileinput.FileInput(new_file_path, inplace=True) as file:\n",
    "                for line in file:\n",
    "                    print(line.replace(old_string, new_string), end='')\n",
    "\n",
    "def main():\n",
    "    parser = argparse.ArgumentParser(description='Duplicate a folder and replace strings in filenames and contents.')\n",
    "    parser.add_argument('--source_folder', required=True, help='Path to the source folder to duplicate.')\n",
    "    parser.add_argument('--dest_folder', required=True, help='Path to the destination folder.')\n",
    "    parser.add_argument('--old_string', required=True, help='String to be replaced in filenames and contents.')\n",
    "    parser.add_argument('--new_string', required=True, help='String to replace with in filenames and contents.')\n",
    "\n",
    "    args = parser.parse_args()\n",
    "\n",
    "    duplicate_and_replace(args.source_folder, args.dest_folder, args.old_string, args.new_string)\n",
    "\n",
    "if __name__ == '__main__':\n",
    "    main()"
   ]
  },
  {
   "cell_type": "markdown",
   "id": "54438e17-cfed-4da9-952b-73773b966723",
   "metadata": {},
   "source": [
    "\n",
    "### Explanation:\n",
    "- **argparse**: This module is used to create a command-line interface. You define the expected arguments with `add_argument()`.\n",
    "- **main() Function**: This function handles the command-line arguments and calls the `duplicate_and_replace` function with the provided values.\n",
    "- **Entry Point**: The `if __name__ == '__main__':` block ensures that the `main()` function runs when the script is executed directly.\n",
    "\n",
    "### Packaging Your Code:\n",
    "To compile this into a package called `dbt_ricos`, you would typically structure your project like this:\n"
   ]
  },
  {
   "cell_type": "markdown",
   "id": "233a6b9c-3bde-4010-84ff-e3bcc6e2319f",
   "metadata": {},
   "source": [
    "dbt_ricos/\n",
    "│\n",
    "├── dbt_ricos/\n",
    "│   ├── __init__.py\n",
    "│   └── duplicate_replace.py  # The above code goes here\n",
    "│\n",
    "├── setup.py\n",
    "└── README.md"
   ]
  },
  {
   "cell_type": "markdown",
   "id": "95116d21-c1f0-4d3c-9c0f-249031e8c6e3",
   "metadata": {},
   "source": [
    "\n",
    "### Example `setup.py`:\n",
    "Here’s a simple `setup.py` to make your package installable:\n"
   ]
  },
  {
   "cell_type": "code",
   "execution_count": 35,
   "id": "a912c96d-b60a-4c9c-8649-b68ebcbad539",
   "metadata": {},
   "outputs": [
    {
     "ename": "AttributeError",
     "evalue": "'tuple' object has no attribute 'tb_frame'",
     "output_type": "error",
     "traceback": [
      "\u001b[0;31m---------------------------------------------------------------------------\u001b[0m",
      "\u001b[0;31mGetoptError\u001b[0m                               Traceback (most recent call last)",
      "File \u001b[0;32m~/anaconda3/lib/python3.11/site-packages/setuptools/_distutils/fancy_getopt.py:246\u001b[0m, in \u001b[0;36mFancyGetopt.getopt\u001b[0;34m(self, args, object)\u001b[0m\n\u001b[1;32m    245\u001b[0m \u001b[38;5;28;01mtry\u001b[39;00m:\n\u001b[0;32m--> 246\u001b[0m     opts, args \u001b[38;5;241m=\u001b[39m getopt\u001b[38;5;241m.\u001b[39mgetopt(args, short_opts, \u001b[38;5;28mself\u001b[39m\u001b[38;5;241m.\u001b[39mlong_opts)\n\u001b[1;32m    247\u001b[0m \u001b[38;5;28;01mexcept\u001b[39;00m getopt\u001b[38;5;241m.\u001b[39merror \u001b[38;5;28;01mas\u001b[39;00m msg:\n",
      "File \u001b[0;32m~/anaconda3/lib/python3.11/getopt.py:95\u001b[0m, in \u001b[0;36mgetopt\u001b[0;34m(args, shortopts, longopts)\u001b[0m\n\u001b[1;32m     94\u001b[0m     \u001b[38;5;28;01melse\u001b[39;00m:\n\u001b[0;32m---> 95\u001b[0m         opts, args \u001b[38;5;241m=\u001b[39m do_shorts(opts, args[\u001b[38;5;241m0\u001b[39m][\u001b[38;5;241m1\u001b[39m:], shortopts, args[\u001b[38;5;241m1\u001b[39m:])\n\u001b[1;32m     97\u001b[0m \u001b[38;5;28;01mreturn\u001b[39;00m opts, args\n",
      "File \u001b[0;32m~/anaconda3/lib/python3.11/getopt.py:195\u001b[0m, in \u001b[0;36mdo_shorts\u001b[0;34m(opts, optstring, shortopts, args)\u001b[0m\n\u001b[1;32m    194\u001b[0m opt, optstring \u001b[38;5;241m=\u001b[39m optstring[\u001b[38;5;241m0\u001b[39m], optstring[\u001b[38;5;241m1\u001b[39m:]\n\u001b[0;32m--> 195\u001b[0m \u001b[38;5;28;01mif\u001b[39;00m short_has_arg(opt, shortopts):\n\u001b[1;32m    196\u001b[0m     \u001b[38;5;28;01mif\u001b[39;00m optstring \u001b[38;5;241m==\u001b[39m \u001b[38;5;124m'\u001b[39m\u001b[38;5;124m'\u001b[39m:\n",
      "File \u001b[0;32m~/anaconda3/lib/python3.11/getopt.py:211\u001b[0m, in \u001b[0;36mshort_has_arg\u001b[0;34m(opt, shortopts)\u001b[0m\n\u001b[1;32m    210\u001b[0m         \u001b[38;5;28;01mreturn\u001b[39;00m shortopts\u001b[38;5;241m.\u001b[39mstartswith(\u001b[38;5;124m'\u001b[39m\u001b[38;5;124m:\u001b[39m\u001b[38;5;124m'\u001b[39m, i\u001b[38;5;241m+\u001b[39m\u001b[38;5;241m1\u001b[39m)\n\u001b[0;32m--> 211\u001b[0m \u001b[38;5;28;01mraise\u001b[39;00m GetoptError(_(\u001b[38;5;124m'\u001b[39m\u001b[38;5;124moption -\u001b[39m\u001b[38;5;132;01m%s\u001b[39;00m\u001b[38;5;124m not recognized\u001b[39m\u001b[38;5;124m'\u001b[39m) \u001b[38;5;241m%\u001b[39m opt, opt)\n",
      "\u001b[0;31mGetoptError\u001b[0m: option -f not recognized",
      "\nDuring handling of the above exception, another exception occurred:\n",
      "\u001b[0;31mDistutilsArgError\u001b[0m                         Traceback (most recent call last)",
      "File \u001b[0;32m~/anaconda3/lib/python3.11/site-packages/setuptools/_distutils/core.py:172\u001b[0m, in \u001b[0;36msetup\u001b[0;34m(**attrs)\u001b[0m\n\u001b[1;32m    171\u001b[0m \u001b[38;5;28;01mtry\u001b[39;00m:\n\u001b[0;32m--> 172\u001b[0m     ok \u001b[38;5;241m=\u001b[39m dist\u001b[38;5;241m.\u001b[39mparse_command_line()\n\u001b[1;32m    173\u001b[0m \u001b[38;5;28;01mexcept\u001b[39;00m DistutilsArgError \u001b[38;5;28;01mas\u001b[39;00m msg:\n",
      "File \u001b[0;32m~/anaconda3/lib/python3.11/site-packages/setuptools/_distutils/dist.py:467\u001b[0m, in \u001b[0;36mDistribution.parse_command_line\u001b[0;34m(self)\u001b[0m\n\u001b[1;32m    466\u001b[0m parser\u001b[38;5;241m.\u001b[39mset_aliases({\u001b[38;5;124m'\u001b[39m\u001b[38;5;124mlicence\u001b[39m\u001b[38;5;124m'\u001b[39m: \u001b[38;5;124m'\u001b[39m\u001b[38;5;124mlicense\u001b[39m\u001b[38;5;124m'\u001b[39m})\n\u001b[0;32m--> 467\u001b[0m args \u001b[38;5;241m=\u001b[39m parser\u001b[38;5;241m.\u001b[39mgetopt(args\u001b[38;5;241m=\u001b[39m\u001b[38;5;28mself\u001b[39m\u001b[38;5;241m.\u001b[39mscript_args, \u001b[38;5;28mobject\u001b[39m\u001b[38;5;241m=\u001b[39m\u001b[38;5;28mself\u001b[39m)\n\u001b[1;32m    468\u001b[0m option_order \u001b[38;5;241m=\u001b[39m parser\u001b[38;5;241m.\u001b[39mget_option_order()\n",
      "File \u001b[0;32m~/anaconda3/lib/python3.11/site-packages/setuptools/_distutils/fancy_getopt.py:248\u001b[0m, in \u001b[0;36mFancyGetopt.getopt\u001b[0;34m(self, args, object)\u001b[0m\n\u001b[1;32m    247\u001b[0m \u001b[38;5;28;01mexcept\u001b[39;00m getopt\u001b[38;5;241m.\u001b[39merror \u001b[38;5;28;01mas\u001b[39;00m msg:\n\u001b[0;32m--> 248\u001b[0m     \u001b[38;5;28;01mraise\u001b[39;00m DistutilsArgError(msg)\n\u001b[1;32m    250\u001b[0m \u001b[38;5;28;01mfor\u001b[39;00m opt, val \u001b[38;5;129;01min\u001b[39;00m opts:\n",
      "\u001b[0;31mDistutilsArgError\u001b[0m: option -f not recognized",
      "\nDuring handling of the above exception, another exception occurred:\n",
      "\u001b[0;31mSystemExit\u001b[0m                                Traceback (most recent call last)",
      "    \u001b[0;31m[... skipping hidden 1 frame]\u001b[0m\n",
      "Cell \u001b[0;32mIn[35], line 3\u001b[0m\n\u001b[1;32m      1\u001b[0m \u001b[38;5;28;01mfrom\u001b[39;00m \u001b[38;5;21;01msetuptools\u001b[39;00m \u001b[38;5;28;01mimport\u001b[39;00m setup, find_packages\n\u001b[0;32m----> 3\u001b[0m setup(\n\u001b[1;32m      4\u001b[0m     name\u001b[38;5;241m=\u001b[39m\u001b[38;5;124m'\u001b[39m\u001b[38;5;124mdbt_ricos\u001b[39m\u001b[38;5;124m'\u001b[39m,\n\u001b[1;32m      5\u001b[0m     version\u001b[38;5;241m=\u001b[39m\u001b[38;5;124m'\u001b[39m\u001b[38;5;124m0.1\u001b[39m\u001b[38;5;124m'\u001b[39m,\n\u001b[1;32m      6\u001b[0m     packages\u001b[38;5;241m=\u001b[39mfind_packages(),\n\u001b[1;32m      7\u001b[0m     entry_points\u001b[38;5;241m=\u001b[39m{\n\u001b[1;32m      8\u001b[0m         \u001b[38;5;124m'\u001b[39m\u001b[38;5;124mconsole_scripts\u001b[39m\u001b[38;5;124m'\u001b[39m: [\n\u001b[1;32m      9\u001b[0m             \u001b[38;5;124m'\u001b[39m\u001b[38;5;124mdbt_ricos=dbt_ricos.duplicate_replace:main\u001b[39m\u001b[38;5;124m'\u001b[39m,\n\u001b[1;32m     10\u001b[0m         ],\n\u001b[1;32m     11\u001b[0m     },\n\u001b[1;32m     12\u001b[0m )\n",
      "File \u001b[0;32m~/anaconda3/lib/python3.11/site-packages/setuptools/__init__.py:107\u001b[0m, in \u001b[0;36msetup\u001b[0;34m(**attrs)\u001b[0m\n\u001b[1;32m    106\u001b[0m _install_setup_requires(attrs)\n\u001b[0;32m--> 107\u001b[0m \u001b[38;5;28;01mreturn\u001b[39;00m distutils\u001b[38;5;241m.\u001b[39mcore\u001b[38;5;241m.\u001b[39msetup(\u001b[38;5;241m*\u001b[39m\u001b[38;5;241m*\u001b[39mattrs)\n",
      "File \u001b[0;32m~/anaconda3/lib/python3.11/site-packages/setuptools/_distutils/core.py:174\u001b[0m, in \u001b[0;36msetup\u001b[0;34m(**attrs)\u001b[0m\n\u001b[1;32m    173\u001b[0m \u001b[38;5;28;01mexcept\u001b[39;00m DistutilsArgError \u001b[38;5;28;01mas\u001b[39;00m msg:\n\u001b[0;32m--> 174\u001b[0m     \u001b[38;5;28;01mraise\u001b[39;00m \u001b[38;5;167;01mSystemExit\u001b[39;00m(gen_usage(dist\u001b[38;5;241m.\u001b[39mscript_name) \u001b[38;5;241m+\u001b[39m \u001b[38;5;124m\"\u001b[39m\u001b[38;5;130;01m\\n\u001b[39;00m\u001b[38;5;124merror: \u001b[39m\u001b[38;5;132;01m%s\u001b[39;00m\u001b[38;5;124m\"\u001b[39m \u001b[38;5;241m%\u001b[39m msg)\n\u001b[1;32m    176\u001b[0m \u001b[38;5;28;01mif\u001b[39;00m DEBUG:\n",
      "\u001b[0;31mSystemExit\u001b[0m: usage: ipykernel_launcher.py [global_opts] cmd1 [cmd1_opts] [cmd2 [cmd2_opts] ...]\n   or: ipykernel_launcher.py --help [cmd1 cmd2 ...]\n   or: ipykernel_launcher.py --help-commands\n   or: ipykernel_launcher.py cmd --help\n\nerror: option -f not recognized",
      "\nDuring handling of the above exception, another exception occurred:\n",
      "\u001b[0;31mAttributeError\u001b[0m                            Traceback (most recent call last)",
      "    \u001b[0;31m[... skipping hidden 1 frame]\u001b[0m\n",
      "File \u001b[0;32m~/anaconda3/lib/python3.11/site-packages/IPython/core/interactiveshell.py:2092\u001b[0m, in \u001b[0;36mInteractiveShell.showtraceback\u001b[0;34m(self, exc_tuple, filename, tb_offset, exception_only, running_compiled_code)\u001b[0m\n\u001b[1;32m   2089\u001b[0m \u001b[38;5;28;01mif\u001b[39;00m exception_only:\n\u001b[1;32m   2090\u001b[0m     stb \u001b[38;5;241m=\u001b[39m [\u001b[38;5;124m'\u001b[39m\u001b[38;5;124mAn exception has occurred, use \u001b[39m\u001b[38;5;124m%\u001b[39m\u001b[38;5;124mtb to see \u001b[39m\u001b[38;5;124m'\u001b[39m\n\u001b[1;32m   2091\u001b[0m            \u001b[38;5;124m'\u001b[39m\u001b[38;5;124mthe full traceback.\u001b[39m\u001b[38;5;130;01m\\n\u001b[39;00m\u001b[38;5;124m'\u001b[39m]\n\u001b[0;32m-> 2092\u001b[0m     stb\u001b[38;5;241m.\u001b[39mextend(\u001b[38;5;28mself\u001b[39m\u001b[38;5;241m.\u001b[39mInteractiveTB\u001b[38;5;241m.\u001b[39mget_exception_only(etype,\n\u001b[1;32m   2093\u001b[0m                                                      value))\n\u001b[1;32m   2094\u001b[0m \u001b[38;5;28;01melse\u001b[39;00m:\n\u001b[1;32m   2095\u001b[0m     \u001b[38;5;28;01mtry\u001b[39;00m:\n\u001b[1;32m   2096\u001b[0m         \u001b[38;5;66;03m# Exception classes can customise their traceback - we\u001b[39;00m\n\u001b[1;32m   2097\u001b[0m         \u001b[38;5;66;03m# use this in IPython.parallel for exceptions occurring\u001b[39;00m\n\u001b[1;32m   2098\u001b[0m         \u001b[38;5;66;03m# in the engines. This should return a list of strings.\u001b[39;00m\n",
      "File \u001b[0;32m~/anaconda3/lib/python3.11/site-packages/IPython/core/ultratb.py:644\u001b[0m, in \u001b[0;36mListTB.get_exception_only\u001b[0;34m(self, etype, value)\u001b[0m\n\u001b[1;32m    636\u001b[0m \u001b[38;5;28;01mdef\u001b[39;00m \u001b[38;5;21mget_exception_only\u001b[39m(\u001b[38;5;28mself\u001b[39m, etype, value):\n\u001b[1;32m    637\u001b[0m \u001b[38;5;250m    \u001b[39m\u001b[38;5;124;03m\"\"\"Only print the exception type and message, without a traceback.\u001b[39;00m\n\u001b[1;32m    638\u001b[0m \n\u001b[1;32m    639\u001b[0m \u001b[38;5;124;03m    Parameters\u001b[39;00m\n\u001b[0;32m   (...)\u001b[0m\n\u001b[1;32m    642\u001b[0m \u001b[38;5;124;03m    value : exception value\u001b[39;00m\n\u001b[1;32m    643\u001b[0m \u001b[38;5;124;03m    \"\"\"\u001b[39;00m\n\u001b[0;32m--> 644\u001b[0m     \u001b[38;5;28;01mreturn\u001b[39;00m ListTB\u001b[38;5;241m.\u001b[39mstructured_traceback(\u001b[38;5;28mself\u001b[39m, etype, value)\n",
      "File \u001b[0;32m~/anaconda3/lib/python3.11/site-packages/IPython/core/ultratb.py:511\u001b[0m, in \u001b[0;36mListTB.structured_traceback\u001b[0;34m(self, etype, evalue, etb, tb_offset, context)\u001b[0m\n\u001b[1;32m    508\u001b[0m     chained_exc_ids\u001b[38;5;241m.\u001b[39madd(\u001b[38;5;28mid\u001b[39m(exception[\u001b[38;5;241m1\u001b[39m]))\n\u001b[1;32m    509\u001b[0m     chained_exceptions_tb_offset \u001b[38;5;241m=\u001b[39m \u001b[38;5;241m0\u001b[39m\n\u001b[1;32m    510\u001b[0m     out_list \u001b[38;5;241m=\u001b[39m (\n\u001b[0;32m--> 511\u001b[0m         \u001b[38;5;28mself\u001b[39m\u001b[38;5;241m.\u001b[39mstructured_traceback(\n\u001b[1;32m    512\u001b[0m             etype, evalue, (etb, chained_exc_ids),\n\u001b[1;32m    513\u001b[0m             chained_exceptions_tb_offset, context)\n\u001b[1;32m    514\u001b[0m         \u001b[38;5;241m+\u001b[39m chained_exception_message\n\u001b[1;32m    515\u001b[0m         \u001b[38;5;241m+\u001b[39m out_list)\n\u001b[1;32m    517\u001b[0m \u001b[38;5;28;01mreturn\u001b[39;00m out_list\n",
      "File \u001b[0;32m~/anaconda3/lib/python3.11/site-packages/IPython/core/ultratb.py:1310\u001b[0m, in \u001b[0;36mAutoFormattedTB.structured_traceback\u001b[0;34m(self, etype, value, tb, tb_offset, number_of_lines_of_context)\u001b[0m\n\u001b[1;32m   1308\u001b[0m \u001b[38;5;28;01melse\u001b[39;00m:\n\u001b[1;32m   1309\u001b[0m     \u001b[38;5;28mself\u001b[39m\u001b[38;5;241m.\u001b[39mtb \u001b[38;5;241m=\u001b[39m tb\n\u001b[0;32m-> 1310\u001b[0m \u001b[38;5;28;01mreturn\u001b[39;00m FormattedTB\u001b[38;5;241m.\u001b[39mstructured_traceback(\n\u001b[1;32m   1311\u001b[0m     \u001b[38;5;28mself\u001b[39m, etype, value, tb, tb_offset, number_of_lines_of_context)\n",
      "File \u001b[0;32m~/anaconda3/lib/python3.11/site-packages/IPython/core/ultratb.py:1199\u001b[0m, in \u001b[0;36mFormattedTB.structured_traceback\u001b[0;34m(self, etype, value, tb, tb_offset, number_of_lines_of_context)\u001b[0m\n\u001b[1;32m   1196\u001b[0m mode \u001b[38;5;241m=\u001b[39m \u001b[38;5;28mself\u001b[39m\u001b[38;5;241m.\u001b[39mmode\n\u001b[1;32m   1197\u001b[0m \u001b[38;5;28;01mif\u001b[39;00m mode \u001b[38;5;129;01min\u001b[39;00m \u001b[38;5;28mself\u001b[39m\u001b[38;5;241m.\u001b[39mverbose_modes:\n\u001b[1;32m   1198\u001b[0m     \u001b[38;5;66;03m# Verbose modes need a full traceback\u001b[39;00m\n\u001b[0;32m-> 1199\u001b[0m     \u001b[38;5;28;01mreturn\u001b[39;00m VerboseTB\u001b[38;5;241m.\u001b[39mstructured_traceback(\n\u001b[1;32m   1200\u001b[0m         \u001b[38;5;28mself\u001b[39m, etype, value, tb, tb_offset, number_of_lines_of_context\n\u001b[1;32m   1201\u001b[0m     )\n\u001b[1;32m   1202\u001b[0m \u001b[38;5;28;01melif\u001b[39;00m mode \u001b[38;5;241m==\u001b[39m \u001b[38;5;124m'\u001b[39m\u001b[38;5;124mMinimal\u001b[39m\u001b[38;5;124m'\u001b[39m:\n\u001b[1;32m   1203\u001b[0m     \u001b[38;5;28;01mreturn\u001b[39;00m ListTB\u001b[38;5;241m.\u001b[39mget_exception_only(\u001b[38;5;28mself\u001b[39m, etype, value)\n",
      "File \u001b[0;32m~/anaconda3/lib/python3.11/site-packages/IPython/core/ultratb.py:1052\u001b[0m, in \u001b[0;36mVerboseTB.structured_traceback\u001b[0;34m(self, etype, evalue, etb, tb_offset, number_of_lines_of_context)\u001b[0m\n\u001b[1;32m   1043\u001b[0m \u001b[38;5;28;01mdef\u001b[39;00m \u001b[38;5;21mstructured_traceback\u001b[39m(\n\u001b[1;32m   1044\u001b[0m     \u001b[38;5;28mself\u001b[39m,\n\u001b[1;32m   1045\u001b[0m     etype: \u001b[38;5;28mtype\u001b[39m,\n\u001b[0;32m   (...)\u001b[0m\n\u001b[1;32m   1049\u001b[0m     number_of_lines_of_context: \u001b[38;5;28mint\u001b[39m \u001b[38;5;241m=\u001b[39m \u001b[38;5;241m5\u001b[39m,\n\u001b[1;32m   1050\u001b[0m ):\n\u001b[1;32m   1051\u001b[0m \u001b[38;5;250m    \u001b[39m\u001b[38;5;124;03m\"\"\"Return a nice text document describing the traceback.\"\"\"\u001b[39;00m\n\u001b[0;32m-> 1052\u001b[0m     formatted_exception \u001b[38;5;241m=\u001b[39m \u001b[38;5;28mself\u001b[39m\u001b[38;5;241m.\u001b[39mformat_exception_as_a_whole(etype, evalue, etb, number_of_lines_of_context,\n\u001b[1;32m   1053\u001b[0m                                                            tb_offset)\n\u001b[1;32m   1055\u001b[0m     colors \u001b[38;5;241m=\u001b[39m \u001b[38;5;28mself\u001b[39m\u001b[38;5;241m.\u001b[39mColors  \u001b[38;5;66;03m# just a shorthand + quicker name lookup\u001b[39;00m\n\u001b[1;32m   1056\u001b[0m     colorsnormal \u001b[38;5;241m=\u001b[39m colors\u001b[38;5;241m.\u001b[39mNormal  \u001b[38;5;66;03m# used a lot\u001b[39;00m\n",
      "File \u001b[0;32m~/anaconda3/lib/python3.11/site-packages/IPython/core/ultratb.py:953\u001b[0m, in \u001b[0;36mVerboseTB.format_exception_as_a_whole\u001b[0;34m(self, etype, evalue, etb, number_of_lines_of_context, tb_offset)\u001b[0m\n\u001b[1;32m    950\u001b[0m \u001b[38;5;28;01massert\u001b[39;00m \u001b[38;5;28misinstance\u001b[39m(tb_offset, \u001b[38;5;28mint\u001b[39m)\n\u001b[1;32m    951\u001b[0m head \u001b[38;5;241m=\u001b[39m \u001b[38;5;28mself\u001b[39m\u001b[38;5;241m.\u001b[39mprepare_header(etype, \u001b[38;5;28mself\u001b[39m\u001b[38;5;241m.\u001b[39mlong_header)\n\u001b[1;32m    952\u001b[0m records \u001b[38;5;241m=\u001b[39m (\n\u001b[0;32m--> 953\u001b[0m     \u001b[38;5;28mself\u001b[39m\u001b[38;5;241m.\u001b[39mget_records(etb, number_of_lines_of_context, tb_offset) \u001b[38;5;28;01mif\u001b[39;00m etb \u001b[38;5;28;01melse\u001b[39;00m []\n\u001b[1;32m    954\u001b[0m )\n\u001b[1;32m    956\u001b[0m frames \u001b[38;5;241m=\u001b[39m []\n\u001b[1;32m    957\u001b[0m skipped \u001b[38;5;241m=\u001b[39m \u001b[38;5;241m0\u001b[39m\n",
      "File \u001b[0;32m~/anaconda3/lib/python3.11/site-packages/IPython/core/ultratb.py:1021\u001b[0m, in \u001b[0;36mVerboseTB.get_records\u001b[0;34m(self, etb, number_of_lines_of_context, tb_offset)\u001b[0m\n\u001b[1;32m   1019\u001b[0m \u001b[38;5;28;01mwhile\u001b[39;00m cf \u001b[38;5;129;01mis\u001b[39;00m \u001b[38;5;129;01mnot\u001b[39;00m \u001b[38;5;28;01mNone\u001b[39;00m:\n\u001b[1;32m   1020\u001b[0m     \u001b[38;5;28;01mtry\u001b[39;00m:\n\u001b[0;32m-> 1021\u001b[0m         source_file \u001b[38;5;241m=\u001b[39m inspect\u001b[38;5;241m.\u001b[39mgetsourcefile(etb\u001b[38;5;241m.\u001b[39mtb_frame)\n\u001b[1;32m   1022\u001b[0m         lines, first \u001b[38;5;241m=\u001b[39m inspect\u001b[38;5;241m.\u001b[39mgetsourcelines(etb\u001b[38;5;241m.\u001b[39mtb_frame)\n\u001b[1;32m   1023\u001b[0m     \u001b[38;5;28;01mexcept\u001b[39;00m \u001b[38;5;167;01mOSError\u001b[39;00m:\n",
      "\u001b[0;31mAttributeError\u001b[0m: 'tuple' object has no attribute 'tb_frame'"
     ]
    }
   ],
   "source": [
    "from setuptools import setup, find_packages\n",
    "\n",
    "setup(\n",
    "    name='dbt_ricos',\n",
    "    version='0.1',\n",
    "    packages=find_packages(),\n",
    "    entry_points={\n",
    "        'console_scripts': [\n",
    "            'dbt_ricos=dbt_ricos.duplicate_replace:main',\n",
    "        ],\n",
    "    },\n",
    ")"
   ]
  },
  {
   "cell_type": "markdown",
   "id": "326fcd9c-e9ab-4640-b24e-cfbf5c9718ad",
   "metadata": {},
   "source": [
    "\n",
    "### Installation:\n",
    "You can install your package locally using:\n"
   ]
  },
  {
   "cell_type": "markdown",
   "id": "8683412f-cb1f-423c-a2f4-2132a28c9e76",
   "metadata": {},
   "source": [
    "bash\n",
    "pip install -e ."
   ]
  },
  {
   "cell_type": "markdown",
   "id": "fa40b88e-afb0-44e4-8ee9-5d3d293ebc5f",
   "metadata": {},
   "source": [
    "\n",
    "### Running the Command:\n",
    "After installation, you can run your command from the terminal like this:\n"
   ]
  },
  {
   "cell_type": "markdown",
   "id": "5046eeda-8f21-45a9-8d80-d506fd589ecb",
   "metadata": {},
   "source": [
    "bash\n",
    "dbt_ricos --source_folder=path/to/source --dest_folder=path/to/destination --old_string=old_string --new_string=new_string"
   ]
  },
  {
   "cell_type": "markdown",
   "id": "0f4fe98a-0fdb-401d-a0ef-1701275f1ed1",
   "metadata": {},
   "source": [
    "\n",
    "This setup will allow you to use your function as a command-line tool effectively. If you have any further questions or need assistance with any part of this process, feel free to ask!"
   ]
  }
 ],
 "metadata": {
  "kernelspec": {
   "display_name": "Python 3 (ipykernel)",
   "language": "python",
   "name": "python3"
  },
  "language_info": {
   "codemirror_mode": {
    "name": "ipython",
    "version": 3
   },
   "file_extension": ".py",
   "mimetype": "text/x-python",
   "name": "python",
   "nbconvert_exporter": "python",
   "pygments_lexer": "ipython3",
   "version": "3.11.4"
  }
 },
 "nbformat": 4,
 "nbformat_minor": 5
}
